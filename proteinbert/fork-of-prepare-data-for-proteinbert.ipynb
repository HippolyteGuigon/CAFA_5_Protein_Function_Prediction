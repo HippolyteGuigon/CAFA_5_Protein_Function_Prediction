{
 "cells": [
  {
   "cell_type": "code",
   "execution_count": 1,
   "metadata": {
    "execution": {
     "iopub.execute_input": "2023-04-22T01:38:50.002733Z",
     "iopub.status.busy": "2023-04-22T01:38:50.002320Z",
     "iopub.status.idle": "2023-04-22T01:39:17.914220Z",
     "shell.execute_reply": "2023-04-22T01:39:17.912927Z",
     "shell.execute_reply.started": "2023-04-22T01:38:50.002700Z"
    }
   },
   "outputs": [
    {
     "name": "stdout",
     "output_type": "stream",
     "text": [
      "Collecting pyfastx\n",
      "  Using cached pyfastx-1.1.0-cp310-cp310-macosx_11_0_arm64.whl (720 kB)\n",
      "Collecting obonet\n",
      "  Downloading obonet-1.0.0-py3-none-any.whl (9.2 kB)\n",
      "Collecting protein-bert\n",
      "  Using cached protein_bert-1.0.1-py3-none-any.whl (39 kB)\n",
      "Collecting networkx\n",
      "  Downloading networkx-3.1-py3-none-any.whl (2.1 MB)\n",
      "\u001b[2K     \u001b[38;2;114;156;31m━━━━━━━━━━━━━━━━━━━━━━━━━━━━━━━━━━━━━━━━\u001b[0m \u001b[32m2.1/2.1 MB\u001b[0m \u001b[31m19.3 MB/s\u001b[0m eta \u001b[36m0:00:00\u001b[0mm eta \u001b[36m0:00:01\u001b[0m[36m0:00:01\u001b[0m\n",
      "\u001b[?25hRequirement already satisfied: pandas in /nix/store/3i3wfmaz78mwzpm6h2cn6lskvpavbcsb-python3-3.10.10-env/lib/python3.10/site-packages (from protein-bert) (1.5.3)\n",
      "Requirement already satisfied: tensorflow in /nix/store/3i3wfmaz78mwzpm6h2cn6lskvpavbcsb-python3-3.10.10-env/lib/python3.10/site-packages (from protein-bert) (2.11.0)\n",
      "Collecting tensorflow-addons\n",
      "  Using cached tensorflow_addons-0.20.0-cp310-cp310-macosx_11_0_arm64.whl (11.6 MB)\n",
      "Requirement already satisfied: h5py in /nix/store/3i3wfmaz78mwzpm6h2cn6lskvpavbcsb-python3-3.10.10-env/lib/python3.10/site-packages (from protein-bert) (3.8.0)\n",
      "Collecting pyfaidx\n",
      "  Using cached pyfaidx-0.7.2.1-py3-none-any.whl (28 kB)\n",
      "Collecting lxml\n",
      "  Using cached lxml-4.9.2-cp310-cp310-macosx_11_0_arm64.whl\n",
      "Requirement already satisfied: numpy in /nix/store/3i3wfmaz78mwzpm6h2cn6lskvpavbcsb-python3-3.10.10-env/lib/python3.10/site-packages (from protein-bert) (1.24.2)\n",
      "Requirement already satisfied: pytz>=2020.1 in /nix/store/3i3wfmaz78mwzpm6h2cn6lskvpavbcsb-python3-3.10.10-env/lib/python3.10/site-packages (from pandas->protein-bert) (2022.7.1)\n",
      "Requirement already satisfied: python-dateutil>=2.8.1 in /nix/store/3i3wfmaz78mwzpm6h2cn6lskvpavbcsb-python3-3.10.10-env/lib/python3.10/site-packages (from pandas->protein-bert) (2.8.2)\n",
      "Requirement already satisfied: setuptools in /nix/store/3i3wfmaz78mwzpm6h2cn6lskvpavbcsb-python3-3.10.10-env/lib/python3.10/site-packages (from pyfaidx->protein-bert) (67.4.0.post0)\n",
      "Requirement already satisfied: six in /nix/store/3i3wfmaz78mwzpm6h2cn6lskvpavbcsb-python3-3.10.10-env/lib/python3.10/site-packages (from pyfaidx->protein-bert) (1.16.0)\n",
      "Requirement already satisfied: absl-py>=1.0.0 in /nix/store/3i3wfmaz78mwzpm6h2cn6lskvpavbcsb-python3-3.10.10-env/lib/python3.10/site-packages (from tensorflow->protein-bert) (1.4.0)\n",
      "Requirement already satisfied: astunparse>=1.6.0 in /nix/store/3i3wfmaz78mwzpm6h2cn6lskvpavbcsb-python3-3.10.10-env/lib/python3.10/site-packages (from tensorflow->protein-bert) (1.6.3)\n",
      "Requirement already satisfied: opt-einsum>=2.3.2 in /nix/store/3i3wfmaz78mwzpm6h2cn6lskvpavbcsb-python3-3.10.10-env/lib/python3.10/site-packages (from tensorflow->protein-bert) (3.3.0)\n",
      "Requirement already satisfied: gast in /nix/store/3i3wfmaz78mwzpm6h2cn6lskvpavbcsb-python3-3.10.10-env/lib/python3.10/site-packages (from tensorflow->protein-bert) (0.5.3)\n",
      "Requirement already satisfied: flatbuffers in /nix/store/3i3wfmaz78mwzpm6h2cn6lskvpavbcsb-python3-3.10.10-env/lib/python3.10/site-packages (from tensorflow->protein-bert) (22.11.23)\n",
      "Requirement already satisfied: typing-extensions>=3.6.6 in /nix/store/3i3wfmaz78mwzpm6h2cn6lskvpavbcsb-python3-3.10.10-env/lib/python3.10/site-packages (from tensorflow->protein-bert) (4.5.0)\n",
      "Requirement already satisfied: google-pasta>=0.1.1 in /nix/store/3i3wfmaz78mwzpm6h2cn6lskvpavbcsb-python3-3.10.10-env/lib/python3.10/site-packages (from tensorflow->protein-bert) (0.2.0)\n",
      "Requirement already satisfied: termcolor>=1.1.0 in /nix/store/3i3wfmaz78mwzpm6h2cn6lskvpavbcsb-python3-3.10.10-env/lib/python3.10/site-packages (from tensorflow->protein-bert) (2.2.0)\n",
      "Requirement already satisfied: wrapt>=1.11.0 in /nix/store/3i3wfmaz78mwzpm6h2cn6lskvpavbcsb-python3-3.10.10-env/lib/python3.10/site-packages (from tensorflow->protein-bert) (1.14.1)\n",
      "Requirement already satisfied: grpcio<2.0,>=1.24.3 in /nix/store/3i3wfmaz78mwzpm6h2cn6lskvpavbcsb-python3-3.10.10-env/lib/python3.10/site-packages (from tensorflow->protein-bert) (1.53.0)\n",
      "Requirement already satisfied: tensorflow-estimator<2.12,>=2.11.0 in /nix/store/3i3wfmaz78mwzpm6h2cn6lskvpavbcsb-python3-3.10.10-env/lib/python3.10/site-packages (from tensorflow->protein-bert) (2.11.0)\n",
      "Requirement already satisfied: packaging in /nix/store/3i3wfmaz78mwzpm6h2cn6lskvpavbcsb-python3-3.10.10-env/lib/python3.10/site-packages (from tensorflow->protein-bert) (23.0)\n",
      "Requirement already satisfied: tensorboard<2.12,>=2.11 in /nix/store/3i3wfmaz78mwzpm6h2cn6lskvpavbcsb-python3-3.10.10-env/lib/python3.10/site-packages (from tensorflow->protein-bert) (2.11.0)\n",
      "Requirement already satisfied: protobuf in /nix/store/3i3wfmaz78mwzpm6h2cn6lskvpavbcsb-python3-3.10.10-env/lib/python3.10/site-packages (from tensorflow->protein-bert) (4.21.12)\n",
      "Collecting typeguard<3.0.0,>=2.7\n",
      "  Using cached typeguard-2.13.3-py3-none-any.whl (17 kB)\n",
      "Requirement already satisfied: wheel<1.0,>=0.23.0 in /nix/store/3i3wfmaz78mwzpm6h2cn6lskvpavbcsb-python3-3.10.10-env/lib/python3.10/site-packages (from astunparse>=1.6.0->tensorflow->protein-bert) (0.38.4)\n",
      "Requirement already satisfied: requests<3,>=2.21.0 in /nix/store/3i3wfmaz78mwzpm6h2cn6lskvpavbcsb-python3-3.10.10-env/lib/python3.10/site-packages (from tensorboard<2.12,>=2.11->tensorflow->protein-bert) (2.28.2)\n",
      "Requirement already satisfied: google-auth-oauthlib in /nix/store/3i3wfmaz78mwzpm6h2cn6lskvpavbcsb-python3-3.10.10-env/lib/python3.10/site-packages (from tensorboard<2.12,>=2.11->tensorflow->protein-bert) (1.0.0)\n",
      "Requirement already satisfied: markdown>=2.6.8 in /nix/store/3i3wfmaz78mwzpm6h2cn6lskvpavbcsb-python3-3.10.10-env/lib/python3.10/site-packages (from tensorboard<2.12,>=2.11->tensorflow->protein-bert) (3.4.1)\n",
      "Requirement already satisfied: tensorboard-data-server<0.7.0,>=0.6.0 in /nix/store/3i3wfmaz78mwzpm6h2cn6lskvpavbcsb-python3-3.10.10-env/lib/python3.10/site-packages (from tensorboard<2.12,>=2.11->tensorflow->protein-bert) (0.6.1)\n",
      "Requirement already satisfied: tensorboard-plugin-wit>=1.6.0 in /nix/store/3i3wfmaz78mwzpm6h2cn6lskvpavbcsb-python3-3.10.10-env/lib/python3.10/site-packages (from tensorboard<2.12,>=2.11->tensorflow->protein-bert) (1.7.0)\n",
      "Requirement already satisfied: werkzeug>=1.0.1 in /nix/store/3i3wfmaz78mwzpm6h2cn6lskvpavbcsb-python3-3.10.10-env/lib/python3.10/site-packages (from tensorboard<2.12,>=2.11->tensorflow->protein-bert) (2.2.3)\n",
      "Requirement already satisfied: google-auth<3,>=1.6.3 in /nix/store/3i3wfmaz78mwzpm6h2cn6lskvpavbcsb-python3-3.10.10-env/lib/python3.10/site-packages (from tensorboard<2.12,>=2.11->tensorflow->protein-bert) (2.16.1)\n",
      "Requirement already satisfied: pyasn1-modules>=0.2.1 in /nix/store/3i3wfmaz78mwzpm6h2cn6lskvpavbcsb-python3-3.10.10-env/lib/python3.10/site-packages (from google-auth<3,>=1.6.3->tensorboard<2.12,>=2.11->tensorflow->protein-bert) (0.2.8)\n",
      "Requirement already satisfied: rsa<5,>=3.1.4 in /nix/store/3i3wfmaz78mwzpm6h2cn6lskvpavbcsb-python3-3.10.10-env/lib/python3.10/site-packages (from google-auth<3,>=1.6.3->tensorboard<2.12,>=2.11->tensorflow->protein-bert) (4.9)\n",
      "Requirement already satisfied: cachetools<6.0,>=2.0.0 in /nix/store/3i3wfmaz78mwzpm6h2cn6lskvpavbcsb-python3-3.10.10-env/lib/python3.10/site-packages (from google-auth<3,>=1.6.3->tensorboard<2.12,>=2.11->tensorflow->protein-bert) (5.3.0)\n",
      "Requirement already satisfied: charset-normalizer<4,>=2 in /nix/store/3i3wfmaz78mwzpm6h2cn6lskvpavbcsb-python3-3.10.10-env/lib/python3.10/site-packages (from requests<3,>=2.21.0->tensorboard<2.12,>=2.11->tensorflow->protein-bert) (3.0.1)\n",
      "Requirement already satisfied: urllib3<1.27,>=1.21.1 in /nix/store/3i3wfmaz78mwzpm6h2cn6lskvpavbcsb-python3-3.10.10-env/lib/python3.10/site-packages (from requests<3,>=2.21.0->tensorboard<2.12,>=2.11->tensorflow->protein-bert) (1.26.14)\n",
      "Requirement already satisfied: certifi>=2017.4.17 in /nix/store/3i3wfmaz78mwzpm6h2cn6lskvpavbcsb-python3-3.10.10-env/lib/python3.10/site-packages (from requests<3,>=2.21.0->tensorboard<2.12,>=2.11->tensorflow->protein-bert) (2022.12.7)\n",
      "Requirement already satisfied: idna<4,>=2.5 in /nix/store/3i3wfmaz78mwzpm6h2cn6lskvpavbcsb-python3-3.10.10-env/lib/python3.10/site-packages (from requests<3,>=2.21.0->tensorboard<2.12,>=2.11->tensorflow->protein-bert) (3.4)\n",
      "Requirement already satisfied: MarkupSafe>=2.1.1 in /nix/store/3i3wfmaz78mwzpm6h2cn6lskvpavbcsb-python3-3.10.10-env/lib/python3.10/site-packages (from werkzeug>=1.0.1->tensorboard<2.12,>=2.11->tensorflow->protein-bert) (2.1.2)\n",
      "Requirement already satisfied: requests-oauthlib>=0.7.0 in /nix/store/3i3wfmaz78mwzpm6h2cn6lskvpavbcsb-python3-3.10.10-env/lib/python3.10/site-packages (from google-auth-oauthlib->tensorboard<2.12,>=2.11->tensorflow->protein-bert) (1.3.1)\n",
      "Requirement already satisfied: pyasn1<0.5.0,>=0.4.6 in /nix/store/3i3wfmaz78mwzpm6h2cn6lskvpavbcsb-python3-3.10.10-env/lib/python3.10/site-packages (from pyasn1-modules>=0.2.1->google-auth<3,>=1.6.3->tensorboard<2.12,>=2.11->tensorflow->protein-bert) (0.4.8)\n"
     ]
    },
    {
     "name": "stdout",
     "output_type": "stream",
     "text": [
      "Requirement already satisfied: oauthlib>=3.0.0 in /nix/store/3i3wfmaz78mwzpm6h2cn6lskvpavbcsb-python3-3.10.10-env/lib/python3.10/site-packages (from requests-oauthlib>=0.7.0->google-auth-oauthlib->tensorboard<2.12,>=2.11->tensorflow->protein-bert) (3.2.2)\n",
      "Installing collected packages: pyfastx, typeguard, pyfaidx, networkx, lxml, tensorflow-addons, obonet, protein-bert\n",
      "Successfully installed lxml-4.9.2 networkx-3.1 obonet-1.0.0 protein-bert-1.0.1 pyfaidx-0.7.2.1 pyfastx-1.1.0 tensorflow-addons-0.20.0 typeguard-2.13.3\n",
      "\n",
      "\u001b[1m[\u001b[0m\u001b[34;49mnotice\u001b[0m\u001b[1;39;49m]\u001b[0m\u001b[39;49m A new release of pip is available: \u001b[0m\u001b[31;49m23.0.1\u001b[0m\u001b[39;49m -> \u001b[0m\u001b[32;49m23.1\u001b[0m\n",
      "\u001b[1m[\u001b[0m\u001b[34;49mnotice\u001b[0m\u001b[1;39;49m]\u001b[0m\u001b[39;49m To update, run: \u001b[0m\u001b[32;49m/nix/store/3i3wfmaz78mwzpm6h2cn6lskvpavbcsb-python3-3.10.10-env/bin/python3.10 -m pip install --upgrade pip\u001b[0m\n"
     ]
    }
   ],
   "source": [
    "!pip install pyfastx obonet protein-bert"
   ]
  },
  {
   "cell_type": "code",
   "execution_count": 12,
   "metadata": {
    "execution": {
     "iopub.execute_input": "2023-04-22T01:39:17.918110Z",
     "iopub.status.busy": "2023-04-22T01:39:17.916578Z",
     "iopub.status.idle": "2023-04-22T01:39:27.122246Z",
     "shell.execute_reply": "2023-04-22T01:39:27.121233Z",
     "shell.execute_reply.started": "2023-04-22T01:39:17.918059Z"
    }
   },
   "outputs": [],
   "source": [
    "import pyfastx\n",
    "import obonet\n",
    "import pandas as pd\n",
    "\n",
    "from tensorflow import keras\n",
    "from sklearn.model_selection import train_test_split\n",
    "from proteinbert import OutputType, OutputSpec, PretrainingModelGenerator, FinetuningModelGenerator, load_pretrained_model, finetune, evaluate_by_len\n",
    "from proteinbert.conv_and_global_attention_model import get_model_with_hidden_layers_as_outputs"
   ]
  },
  {
   "cell_type": "code",
   "execution_count": 2,
   "metadata": {
    "execution": {
     "iopub.execute_input": "2023-04-22T01:39:27.124638Z",
     "iopub.status.busy": "2023-04-22T01:39:27.123681Z",
     "iopub.status.idle": "2023-04-22T01:39:31.800680Z",
     "shell.execute_reply": "2023-04-22T01:39:31.799095Z",
     "shell.execute_reply.started": "2023-04-22T01:39:27.124601Z"
    }
   },
   "outputs": [],
   "source": [
    "![ ! -f train_sequences.fasta ] && cp ../input/cafa-5-protein-function-prediction/Train/train_sequences.fasta .\n",
    "fa = pyfastx.Fasta('train_sequences.fasta')\n",
    "all_seqs = {s.name: s.seq for s in fa}"
   ]
  },
  {
   "cell_type": "code",
   "execution_count": 3,
   "metadata": {
    "execution": {
     "iopub.execute_input": "2023-04-22T01:39:31.804975Z",
     "iopub.status.busy": "2023-04-22T01:39:31.804452Z",
     "iopub.status.idle": "2023-04-22T01:39:40.465479Z",
     "shell.execute_reply": "2023-04-22T01:39:40.464306Z",
     "shell.execute_reply.started": "2023-04-22T01:39:31.804898Z"
    }
   },
   "outputs": [],
   "source": [
    "url = '../input/cafa-5-protein-function-prediction/Train/go-basic.obo'\n",
    "graph = obonet.read_obo(url)\n",
    "all_terms = list(graph.nodes())\n",
    "all_labels = list(range(len(all_terms)))\n",
    "term_to_label = {term: label for term, label in zip(all_terms, all_labels)}"
   ]
  },
  {
   "cell_type": "code",
   "execution_count": 4,
   "metadata": {
    "execution": {
     "iopub.execute_input": "2023-04-22T02:12:24.298222Z",
     "iopub.status.busy": "2023-04-22T02:12:24.297763Z",
     "iopub.status.idle": "2023-04-22T02:12:38.930737Z",
     "shell.execute_reply": "2023-04-22T02:12:38.929408Z",
     "shell.execute_reply.started": "2023-04-22T02:12:24.298185Z"
    }
   },
   "outputs": [],
   "source": [
    "train = pd.read_csv('../input/cafa-5-protein-function-prediction/Train/train_terms.tsv', sep='\\t')\n",
    "\n",
    "# Filter out terms with only 1 sample (since they cannot be splitted into train and validation sets)\n",
    "train = train.groupby('term').filter(lambda x: x['EntryID'].count() >= 2)\n",
    "\n",
    "train['text'] = train['EntryID'].map(lambda x: all_seqs[x])\n",
    "train['label'] = train['term'].map(lambda x: term_to_label[x])"
   ]
  },
  {
   "cell_type": "code",
   "execution_count": 28,
   "metadata": {
    "execution": {
     "iopub.execute_input": "2023-04-22T02:14:20.958177Z",
     "iopub.status.busy": "2023-04-22T02:14:20.957700Z",
     "iopub.status.idle": "2023-04-22T02:14:44.031860Z",
     "shell.execute_reply": "2023-04-22T02:14:44.029983Z",
     "shell.execute_reply.started": "2023-04-22T02:14:20.958134Z"
    }
   },
   "outputs": [
    {
     "name": "stdout",
     "output_type": "stream",
     "text": [
      " Local model dump file ./default.pkl doesn't exist. Will download ftp://ftp.cs.huji.ac.il/users/nadavb/protein_bert/epoch_92400_sample_23500000.pkl into .. Please approve or reject this (to exit and potentially call the function again with different parameters).\n",
      "Do you approve downloadig the file into the specified directory? Please specify \"Yes\" or \"No\":yes\n",
      "Downloaded file: ./epoch_92400_sample_23500000.pkl\n",
      "Created: ./default.pkl\n"
     ]
    }
   ],
   "source": [
    "OUTPUT_TYPE = OutputType(False, 'categorical')\n",
    "UNIQUE_LABELS = all_labels\n",
    "OUTPUT_SPEC = OutputSpec(OUTPUT_TYPE, UNIQUE_LABELS)\n",
    "\n",
    "train_set, valid_set = train_test_split(train, stratify = train['label'], test_size = 0.1, random_state = 0)\n",
    "\n",
    "pretrained_model_generator, input_encoder = load_pretrained_model(\n",
    "    local_model_dump_dir = '.'\n",
    ")"
   ]
  },
  {
   "cell_type": "code",
   "execution_count": 31,
   "metadata": {},
   "outputs": [
    {
     "name": "stderr",
     "output_type": "stream",
     "text": [
      "WARNING:absl:`lr` is deprecated, please use `learning_rate` instead, or use the legacy optimizer, e.g.,tf.keras.optimizers.legacy.Adam.\n"
     ]
    },
    {
     "name": "stdout",
     "output_type": "stream",
     "text": [
      "1/1 [==============================] - 1s 671ms/step\n"
     ]
    },
    {
     "data": {
      "text/plain": [
       "['T',\n",
       " '__abs__',\n",
       " '__add__',\n",
       " '__and__',\n",
       " '__array__',\n",
       " '__array_finalize__',\n",
       " '__array_function__',\n",
       " '__array_interface__',\n",
       " '__array_prepare__',\n",
       " '__array_priority__',\n",
       " '__array_struct__',\n",
       " '__array_ufunc__',\n",
       " '__array_wrap__',\n",
       " '__bool__',\n",
       " '__class__',\n",
       " '__class_getitem__',\n",
       " '__complex__',\n",
       " '__contains__',\n",
       " '__copy__',\n",
       " '__deepcopy__',\n",
       " '__delattr__',\n",
       " '__delitem__',\n",
       " '__dir__',\n",
       " '__divmod__',\n",
       " '__dlpack__',\n",
       " '__dlpack_device__',\n",
       " '__doc__',\n",
       " '__eq__',\n",
       " '__float__',\n",
       " '__floordiv__',\n",
       " '__format__',\n",
       " '__ge__',\n",
       " '__getattribute__',\n",
       " '__getitem__',\n",
       " '__gt__',\n",
       " '__hash__',\n",
       " '__iadd__',\n",
       " '__iand__',\n",
       " '__ifloordiv__',\n",
       " '__ilshift__',\n",
       " '__imatmul__',\n",
       " '__imod__',\n",
       " '__imul__',\n",
       " '__index__',\n",
       " '__init__',\n",
       " '__init_subclass__',\n",
       " '__int__',\n",
       " '__invert__',\n",
       " '__ior__',\n",
       " '__ipow__',\n",
       " '__irshift__',\n",
       " '__isub__',\n",
       " '__iter__',\n",
       " '__itruediv__',\n",
       " '__ixor__',\n",
       " '__le__',\n",
       " '__len__',\n",
       " '__lshift__',\n",
       " '__lt__',\n",
       " '__matmul__',\n",
       " '__mod__',\n",
       " '__mul__',\n",
       " '__ne__',\n",
       " '__neg__',\n",
       " '__new__',\n",
       " '__or__',\n",
       " '__pos__',\n",
       " '__pow__',\n",
       " '__radd__',\n",
       " '__rand__',\n",
       " '__rdivmod__',\n",
       " '__reduce__',\n",
       " '__reduce_ex__',\n",
       " '__repr__',\n",
       " '__rfloordiv__',\n",
       " '__rlshift__',\n",
       " '__rmatmul__',\n",
       " '__rmod__',\n",
       " '__rmul__',\n",
       " '__ror__',\n",
       " '__rpow__',\n",
       " '__rrshift__',\n",
       " '__rshift__',\n",
       " '__rsub__',\n",
       " '__rtruediv__',\n",
       " '__rxor__',\n",
       " '__setattr__',\n",
       " '__setitem__',\n",
       " '__setstate__',\n",
       " '__sizeof__',\n",
       " '__str__',\n",
       " '__sub__',\n",
       " '__subclasshook__',\n",
       " '__truediv__',\n",
       " '__xor__',\n",
       " 'all',\n",
       " 'any',\n",
       " 'argmax',\n",
       " 'argmin',\n",
       " 'argpartition',\n",
       " 'argsort',\n",
       " 'astype',\n",
       " 'base',\n",
       " 'byteswap',\n",
       " 'choose',\n",
       " 'clip',\n",
       " 'compress',\n",
       " 'conj',\n",
       " 'conjugate',\n",
       " 'copy',\n",
       " 'ctypes',\n",
       " 'cumprod',\n",
       " 'cumsum',\n",
       " 'data',\n",
       " 'diagonal',\n",
       " 'dot',\n",
       " 'dtype',\n",
       " 'dump',\n",
       " 'dumps',\n",
       " 'fill',\n",
       " 'flags',\n",
       " 'flat',\n",
       " 'flatten',\n",
       " 'getfield',\n",
       " 'imag',\n",
       " 'item',\n",
       " 'itemset',\n",
       " 'itemsize',\n",
       " 'max',\n",
       " 'mean',\n",
       " 'min',\n",
       " 'nbytes',\n",
       " 'ndim',\n",
       " 'newbyteorder',\n",
       " 'nonzero',\n",
       " 'partition',\n",
       " 'prod',\n",
       " 'ptp',\n",
       " 'put',\n",
       " 'ravel',\n",
       " 'real',\n",
       " 'repeat',\n",
       " 'reshape',\n",
       " 'resize',\n",
       " 'round',\n",
       " 'searchsorted',\n",
       " 'setfield',\n",
       " 'setflags',\n",
       " 'shape',\n",
       " 'size',\n",
       " 'sort',\n",
       " 'squeeze',\n",
       " 'std',\n",
       " 'strides',\n",
       " 'sum',\n",
       " 'swapaxes',\n",
       " 'take',\n",
       " 'tobytes',\n",
       " 'tofile',\n",
       " 'tolist',\n",
       " 'tostring',\n",
       " 'trace',\n",
       " 'transpose',\n",
       " 'var',\n",
       " 'view']"
      ]
     },
     "execution_count": 31,
     "metadata": {},
     "output_type": "execute_result"
    }
   ],
   "source": [
    "y = pretrained_model_generator.create_model(seq_len = 512).predict(input_encoder.encode_X(\n",
    "    ['MSLEQKKGADIISKILQIQNSIGKTTSPSTLKTKLSEISRKEQENARIQSKLSDLQKKKIDIDNKLLKEKQNLIKEEILERKKLEVLTKKQQKDEIEHQKKLKREIDAIKA\\\n",
    "    STQYITDVSISSYNNTIPETEPEYDLFISHASEDKEDFVRPLAETLQQLGVNVWYDEFTLKVGDSLRQKIDSGLRNSKYGTVVLSTDFIKKDWTNYELDGLVAREMNGHKMIL\\\n",
    "    PIWHKITKNDVLDYSPNLADKVALNTSVNSIEEIAHQLADVILNR'],\n",
    "seq_len = 512))\n",
    "dir(y[1])"
   ]
  },
  {
   "cell_type": "code",
   "execution_count": null,
   "metadata": {},
   "outputs": [],
   "source": [
    "model_generator = FinetuningModelGenerator(pretrained_model_generator, OUTPUT_SPEC, pretraining_model_manipulation_function = \\\n",
    "        get_model_with_hidden_layers_as_outputs, dropout_rate = 0.5)\n",
    "\n",
    "training_callbacks = [\n",
    "    keras.callbacks.ReduceLROnPlateau(patience = 1, factor = 0.25, min_lr = 1e-05, verbose = 1),\n",
    "    keras.callbacks.EarlyStopping(patience = 2, restore_best_weights = True),\n",
    "]\n",
    "\n",
    "finetune(model_generator, input_encoder, OUTPUT_SPEC, train_set['text'], train_set['label'], valid_set['text'], valid_set['label'], \\\n",
    "        seq_len = 512, batch_size = 32, max_epochs_per_stage = 40, lr = 1e-04, begin_with_frozen_pretrained_layers = True, \\\n",
    "        lr_with_frozen_pretrained_layers = 1e-02, n_final_epochs = 1, final_seq_len = 1024, final_lr = 1e-05, callbacks = training_callbacks)\n"
   ]
  }
 ],
 "metadata": {
  "kernelspec": {
   "display_name": "Python 3 (ipykernel)",
   "language": "python",
   "name": "python3"
  },
  "language_info": {
   "codemirror_mode": {
    "name": "ipython",
    "version": 3
   },
   "file_extension": ".py",
   "mimetype": "text/x-python",
   "name": "python",
   "nbconvert_exporter": "python",
   "pygments_lexer": "ipython3",
   "version": "3.10.10"
  }
 },
 "nbformat": 4,
 "nbformat_minor": 4
}
